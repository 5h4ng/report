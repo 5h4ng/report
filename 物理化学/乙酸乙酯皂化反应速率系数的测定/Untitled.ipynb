{
 "cells": [
  {
   "cell_type": "code",
   "execution_count": null,
   "id": "e62ac8bb",
   "metadata": {},
   "outputs": [],
   "source": [
    "import pandas as pd\n",
    "import numpy as np\n",
    "from plotnine import *\n",
    "%matplotlib inline"
   ]
  },
  {
   "cell_type": "code",
   "execution_count": null,
   "id": "4769372c",
   "metadata": {},
   "outputs": [],
   "source": [
    "at = pd.read_csv('A-t.csv')\n",
    "at.replace(' ', np.nan, inplace=True)\n",
    "print(at)\n",
    "at = at.astype(float)\n",
    "print(at.dtypes)\n",
    "at_long = pd.melt(at,id_vars = 't', var_name = 'A', value_name = 'A_value')\n",
    "#at_long['A_value'] = pd.to_numeric(at_long['A_value'], errors='coerce')\n",
    "at_long"
   ]
  },
  {
   "cell_type": "code",
   "execution_count": null,
   "id": "6e79ef11",
   "metadata": {},
   "outputs": [],
   "source": [
    "#吸光度散点图\n",
    "p1 = ggplot(at_long, aes(x = 't', y = 'A_value', color = 'A')) + \\\n",
    "    geom_point()\n",
    "\n",
    "p1"
   ]
  },
  {
   "cell_type": "code",
   "execution_count": null,
   "id": "d7fb1c74",
   "metadata": {},
   "outputs": [],
   "source": [
    "A_20_std = np.array([0.829, 0.436, 0.604])\n",
    "A_30_std = np.array([0.738, 0.66415, 0.612])\n",
    "c = np.array([0.02015, 0.02015, 0.02728])\n",
    "l = 1\n",
    "E_20 = A_20_std / c / l \n",
    "E_30 = A_30_std / c / l \n",
    "E_20, E_30"
   ]
  },
  {
   "cell_type": "code",
   "execution_count": null,
   "id": "ece338dc",
   "metadata": {},
   "outputs": [],
   "source": [
    "c0 = 0.02015 / 2\n",
    "at['x_20'] = (at['A20'] / l - c0 * (E_20[0] + E_20[1])) / (E_20[2] - E_20[1] - E_20[0]) \n",
    "at['x_30'] = (at['A30'] / l - c0 * (E_30[0] + E_30[1])) / (E_30[2] - E_30[1] - E_30[0]) \n",
    "at"
   ]
  },
  {
   "cell_type": "code",
   "execution_count": null,
   "id": "7771e017",
   "metadata": {},
   "outputs": [],
   "source": [
    "at['f20'] = 1 / (c0 - at['x_20']) - 1 / c0\n",
    "at['f30'] = 1 / (c0 - at['x_30']) - 1 / c0\n",
    "at"
   ]
  },
  {
   "cell_type": "code",
   "execution_count": null,
   "id": "6c5b84a2",
   "metadata": {},
   "outputs": [],
   "source": [
    "#拟合数据处理\n",
    "fit = at[['t', 'f20', 'f30']]\n",
    "fit = pd.melt(fit, id_vars = 't', value_vars = ['f20', 'f30'], value_name = 'f', var_name = 'T')\n",
    "fit"
   ]
  },
  {
   "cell_type": "code",
   "execution_count": null,
   "id": "86cd56e4",
   "metadata": {},
   "outputs": [],
   "source": [
    "p = ggplot(fit, aes(x = 't', y = 'f', color = 'T')) + geom_point(size = 1) + geom_smooth(method = 'lm', size = 0.5)\n",
    "p"
   ]
  },
  {
   "cell_type": "code",
   "execution_count": null,
   "id": "b3b8b3fa",
   "metadata": {},
   "outputs": [],
   "source": [
    "#30度时第一和第二个数据点由于反应并没有进行，因此偏离，故舍弃\n",
    "fit.drop([13, 14], inplace = True)\n",
    "fit.dropna(inplace = True)\n",
    "print(fit)\n",
    "ggplot(fit, aes(x = 't', y = 'f', color = 'T')) + geom_point(size = 1) + geom_smooth(method = 'lm', size = 0.5)"
   ]
  },
  {
   "cell_type": "code",
   "execution_count": null,
   "id": "1a3aeff8",
   "metadata": {},
   "outputs": [],
   "source": [
    "#获得线性回归结果\n",
    "from sklearn.linear_model import LinearRegression\n",
    "def lr(t):\n",
    "    model = LinearRegression()\n",
    "    x = fit[fit['T'] == t]['t'].to_numpy()\n",
    "    y = fit[fit['T'] == t]['f'].to_numpy()\n",
    "    model.fit(x.reshape(-1, 1), y.reshape(-1, 1))\n",
    "    coefficient = model.coef_[0][0]\n",
    "    intercept = model.intercept_[0]\n",
    "    print(f\"拟合方程: y = {coefficient:.6f} * X + {intercept:.6f}\")"
   ]
  },
  {
   "cell_type": "code",
   "execution_count": null,
   "id": "3dcb10bc",
   "metadata": {},
   "outputs": [],
   "source": [
    "lr('f20')\n",
    "lr('f30')"
   ]
  }
 ],
 "metadata": {
  "kernelspec": {
   "display_name": "Python 3 (ipykernel)",
   "language": "python",
   "name": "python3"
  },
  "language_info": {
   "codemirror_mode": {
    "name": "ipython",
    "version": 3
   },
   "file_extension": ".py",
   "mimetype": "text/x-python",
   "name": "python",
   "nbconvert_exporter": "python",
   "pygments_lexer": "ipython3",
   "version": "3.11.4"
  }
 },
 "nbformat": 4,
 "nbformat_minor": 5
}
