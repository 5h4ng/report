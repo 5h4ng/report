{
 "cells": [
  {
   "cell_type": "code",
   "execution_count": null,
   "metadata": {},
   "outputs": [],
   "source": [
    "import matplotlib.pyplot as plt\n",
    "import numpy as np\n",
    "\n",
    "# 数据\n",
    "t = np.array([80.56, 71.48, 65.83, 64.67, 64.39, 64.51, 65.06, 78.32, 74.66, 70.55, 66.78]) - 0.2\n",
    "x = [1, 0.932, 0.862, 0.734, 0.69, 0.55, 0.416, 0.065, 0.089, 0.139, 0.275]\n",
    "y = [1, 0.853, 0.745, 0.703, 0.696, 0.679, 0.64, 0.065, 0.151, 0.262, 0.538]\n",
    " \n",
    "# 校正\n",
    "t -= 0.2\n",
    "\n",
    "# 拟合\n",
    "x_fit = np.polyfit(x, t, 6)\n",
    "#尽可能让y轴的拟合曲线与原始数据的点重合，发现6次多项式拟合效果最好\n",
    "y_fit = np.polyfit(y, t, 6)\n",
    "\n",
    "plt.figure()\n",
    "\n",
    "# 绘制原始数据\n",
    "plt.scatter(x, t, label='x: gas phase')\n",
    "plt.scatter(y, t, label='y: liquid phase')\n",
    "\n",
    "# 绘制拟合曲线\n",
    "x_line = np.linspace(min(x), max(x), 100)\n",
    "y_line = np.linspace(min(y), max(y), 100)\n",
    "plt.plot(x_line, np.polyval(x_fit, x_line), label='x fit')\n",
    "plt.plot(y_line, np.polyval(y_fit, y_line), label='y fit')\n",
    "\n",
    "plt.xlabel('Composition')\n",
    "plt.ylabel('Temperature (°C)')\n",
    "plt.legend(loc='upper left')\n",
    "plt.text(-0.05, 62, 'Ethanol', fontsize=10)\n",
    "plt.text(1.03, 62, 'Hexane', fontsize=10)\n",
    "plt.annotate('t=64.39°C x=0.69', xy=(0.69, 64.39), xytext=(0.5, 65), arrowprops=dict(facecolor='black', shrink=0.5, width=0.5, headwidth=5))\n",
    "plt.show()"
   ]
  }
 ],
 "metadata": {
  "kernelspec": {
   "display_name": "Python 3 (ipykernel)",
   "language": "python",
   "name": "python3"
  },
  "language_info": {
   "codemirror_mode": {
    "name": "ipython",
    "version": 3
   },
   "file_extension": ".py",
   "mimetype": "text/x-python",
   "name": "python",
   "nbconvert_exporter": "python",
   "pygments_lexer": "ipython3",
   "version": "3.11.4"
  }
 },
 "nbformat": 4,
 "nbformat_minor": 2
}
