{
 "cells": [
  {
   "cell_type": "code",
   "execution_count": null,
   "metadata": {},
   "outputs": [],
   "source": [
    "import pandas as pd\n",
    "import numpy as np\n",
    "import matplotlib.pyplot as plt"
   ]
  },
  {
   "cell_type": "code",
   "execution_count": null,
   "metadata": {},
   "outputs": [],
   "source": [
    "df = pd.read_csv('data.csv')\n",
    "df"
   ]
  },
  {
   "cell_type": "code",
   "execution_count": null,
   "metadata": {},
   "outputs": [],
   "source": [
    "\n",
    "fig, axes = plt.subplots(nrows=3, ncols=2)\n",
    "df.plot(x='t', y='1', ax=axes[0, 0])\n",
    "df.plot(x='t', y='2', ax=axes[0, 1])\n",
    "df.plot(x='t', y='3', ax=axes[1, 0])\n",
    "df.plot(x='t', y='4', ax=axes[1, 1])\n",
    "df.plot(x='t', y='5', ax=axes[2, 0])\n",
    "df.plot(x='t', y='6', ax=axes[2, 1])\n",
    "plt.show()\n"
   ]
  },
  {
   "cell_type": "code",
   "execution_count": null,
   "metadata": {},
   "outputs": [],
   "source": [
    "\n",
    "plt.figure()\n",
    "plt.plot(df['t'], df['1'], label='1')\n",
    "plt.plot(df['t'], df['2'], label='2')\n",
    "plt.plot(df['t'], df['3'], label='3')\n",
    "plt.plot(df['t'], df['4'], label='4')\n",
    "plt.plot(df['t'], df['5'], label='5')\n",
    "plt.plot(df['t'], df['6'], label='6')\n",
    "plt.xlabel('t / min')\n",
    "plt.ylabel('T / ℃')\n",
    "plt.legend()\n",
    "plt.show()\n"
   ]
  },
  {
   "cell_type": "code",
   "execution_count": null,
   "metadata": {},
   "outputs": [],
   "source": [
    "\n",
    "plt.figure()\n",
    "plt.plot(df['t'], df['1'], label='1')\n",
    "plt.plot(df['t'] + 50, df['2'], label='2')\n",
    "plt.plot(df['t'] + 100, df['3'], label='3')\n",
    "plt.plot(df['t'] + 150, df['4'], label='4')\n",
    "plt.plot(df['t'] + 200, df['5'], label='5')\n",
    "plt.plot(df['t'] + 250, df['6'], label='6')\n",
    "plt.xlabel('t / min')\n",
    "plt.ylabel('T / ℃')\n",
    "plt.legend()\n",
    "plt.show()\n"
   ]
  }
 ],
 "metadata": {
  "kernelspec": {
   "display_name": "Python 3 (ipykernel)",
   "language": "python",
   "name": "python3"
  },
  "language_info": {
   "codemirror_mode": {
    "name": "ipython",
    "version": 3
   },
   "file_extension": ".py",
   "mimetype": "text/x-python",
   "name": "python",
   "nbconvert_exporter": "python",
   "pygments_lexer": "ipython3",
   "version": "3.11.4"
  }
 },
 "nbformat": 4,
 "nbformat_minor": 2
}
