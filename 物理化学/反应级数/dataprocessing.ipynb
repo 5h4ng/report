{
 "cells": [
  {
   "cell_type": "code",
   "execution_count": 115,
   "metadata": {},
   "outputs": [],
   "source": [
    "import pandas as pd\n",
    "import numpy as np"
   ]
  },
  {
   "cell_type": "code",
   "execution_count": 116,
   "metadata": {},
   "outputs": [],
   "source": [
    "df = pd.read_csv(\"input.csv\")"
   ]
  },
  {
   "cell_type": "code",
   "execution_count": 117,
   "metadata": {},
   "outputs": [
    {
     "data": {
      "text/html": [
       "<div>\n",
       "<style scoped>\n",
       "    .dataframe tbody tr th:only-of-type {\n",
       "        vertical-align: middle;\n",
       "    }\n",
       "\n",
       "    .dataframe tbody tr th {\n",
       "        vertical-align: top;\n",
       "    }\n",
       "\n",
       "    .dataframe thead th {\n",
       "        text-align: right;\n",
       "    }\n",
       "</style>\n",
       "<table border=\"1\" class=\"dataframe\">\n",
       "  <thead>\n",
       "    <tr style=\"text-align: right;\">\n",
       "      <th></th>\n",
       "      <th>1</th>\n",
       "      <th>2</th>\n",
       "      <th>3</th>\n",
       "      <th>4</th>\n",
       "      <th>5</th>\n",
       "      <th>6</th>\n",
       "      <th>7</th>\n",
       "      <th>8</th>\n",
       "      <th>9</th>\n",
       "    </tr>\n",
       "  </thead>\n",
       "  <tbody>\n",
       "    <tr>\n",
       "      <th>0</th>\n",
       "      <td>45.8</td>\n",
       "      <td>46.9</td>\n",
       "      <td>48.1</td>\n",
       "      <td>49.3</td>\n",
       "      <td>50.6</td>\n",
       "      <td>52.0</td>\n",
       "      <td>53.2</td>\n",
       "      <td>54.6</td>\n",
       "      <td>55.9</td>\n",
       "    </tr>\n",
       "    <tr>\n",
       "      <th>1</th>\n",
       "      <td>45.0</td>\n",
       "      <td>45.6</td>\n",
       "      <td>46.1</td>\n",
       "      <td>46.7</td>\n",
       "      <td>47.5</td>\n",
       "      <td>47.9</td>\n",
       "      <td>48.4</td>\n",
       "      <td>49.0</td>\n",
       "      <td>49.7</td>\n",
       "    </tr>\n",
       "    <tr>\n",
       "      <th>2</th>\n",
       "      <td>31.7</td>\n",
       "      <td>32.5</td>\n",
       "      <td>33.3</td>\n",
       "      <td>34.2</td>\n",
       "      <td>35.2</td>\n",
       "      <td>36.2</td>\n",
       "      <td>37.3</td>\n",
       "      <td>38.6</td>\n",
       "      <td>39.8</td>\n",
       "    </tr>\n",
       "    <tr>\n",
       "      <th>3</th>\n",
       "      <td>45.8</td>\n",
       "      <td>46.4</td>\n",
       "      <td>47.0</td>\n",
       "      <td>47.7</td>\n",
       "      <td>48.4</td>\n",
       "      <td>49.3</td>\n",
       "      <td>50.2</td>\n",
       "      <td>51.1</td>\n",
       "      <td>52.1</td>\n",
       "    </tr>\n",
       "    <tr>\n",
       "      <th>4</th>\n",
       "      <td>49.4</td>\n",
       "      <td>50.1</td>\n",
       "      <td>50.7</td>\n",
       "      <td>51.5</td>\n",
       "      <td>52.1</td>\n",
       "      <td>52.8</td>\n",
       "      <td>53.6</td>\n",
       "      <td>54.4</td>\n",
       "      <td>55.1</td>\n",
       "    </tr>\n",
       "  </tbody>\n",
       "</table>\n",
       "</div>"
      ],
      "text/plain": [
       "      1     2     3     4     5     6     7     8     9\n",
       "0  45.8  46.9  48.1  49.3  50.6  52.0  53.2  54.6  55.9\n",
       "1  45.0  45.6  46.1  46.7  47.5  47.9  48.4  49.0  49.7\n",
       "2  31.7  32.5  33.3  34.2  35.2  36.2  37.3  38.6  39.8\n",
       "3  45.8  46.4  47.0  47.7  48.4  49.3  50.2  51.1  52.1\n",
       "4  49.4  50.1  50.7  51.5  52.1  52.8  53.6  54.4  55.1"
      ]
     },
     "execution_count": 117,
     "metadata": {},
     "output_type": "execute_result"
    }
   ],
   "source": [
    "df"
   ]
  },
  {
   "cell_type": "code",
   "execution_count": 118,
   "metadata": {},
   "outputs": [
    {
     "data": {
      "text/plain": [
       "(0.4206666666666667, 94.01547495288673)"
      ]
     },
     "execution_count": 118,
     "metadata": {},
     "output_type": "execute_result"
    }
   ],
   "source": [
    "c_0 = 0.004\n",
    "T_0 = (41.9 + 42.1 + 42.2) / 300\n",
    "k = -np.log10(T_0) / c_0\n",
    "T_0,k"
   ]
  },
  {
   "cell_type": "code",
   "execution_count": 119,
   "metadata": {},
   "outputs": [],
   "source": [
    "df_c = -np.log10(df/100)/k\n",
    "df_c.to_csv(\"c.csv\")"
   ]
  },
  {
   "cell_type": "code",
   "execution_count": 120,
   "metadata": {},
   "outputs": [
    {
     "name": "stdout",
     "output_type": "stream",
     "text": [
      "\\begin{tabular}{lrrrrrrrrr}\n",
      "\\toprule\n",
      "{} &     1 &     2 &     3 &     4 &     5 &     6 &     7 &     8 &     9 \\\\\n",
      "\\midrule\n",
      "0 &  45.8 &  46.9 &  48.1 &  49.3 &  50.6 &  52.0 &  53.2 &  54.6 &  55.9 \\\\\n",
      "1 &  45.0 &  45.6 &  46.1 &  46.7 &  47.5 &  47.9 &  48.4 &  49.0 &  49.7 \\\\\n",
      "2 &  31.7 &  32.5 &  33.3 &  34.2 &  35.2 &  36.2 &  37.3 &  38.6 &  39.8 \\\\\n",
      "3 &  45.8 &  46.4 &  47.0 &  47.7 &  48.4 &  49.3 &  50.2 &  51.1 &  52.1 \\\\\n",
      "4 &  49.4 &  50.1 &  50.7 &  51.5 &  52.1 &  52.8 &  53.6 &  54.4 &  55.1 \\\\\n",
      "\\bottomrule\n",
      "\\end{tabular}\n",
      "\n"
     ]
    },
    {
     "name": "stderr",
     "output_type": "stream",
     "text": [
      "C:\\Windows\\Temp\\ipykernel_52472\\2350534188.py:1: FutureWarning: In future versions `DataFrame.to_latex` is expected to utilise the base implementation of `Styler.to_latex` for formatting and rendering. The arguments signature may therefore change. It is recommended instead to use `DataFrame.style.to_latex` which also contains additional functionality.\n",
      "  print(df.to_latex())\n"
     ]
    }
   ],
   "source": [
    "print(df.to_latex())"
   ]
  },
  {
   "cell_type": "markdown",
   "metadata": {},
   "source": []
  },
  {
   "cell_type": "code",
   "execution_count": 121,
   "metadata": {},
   "outputs": [
    {
     "data": {
      "text/html": [
       "<div>\n",
       "<style scoped>\n",
       "    .dataframe tbody tr th:only-of-type {\n",
       "        vertical-align: middle;\n",
       "    }\n",
       "\n",
       "    .dataframe tbody tr th {\n",
       "        vertical-align: top;\n",
       "    }\n",
       "\n",
       "    .dataframe thead th {\n",
       "        text-align: right;\n",
       "    }\n",
       "</style>\n",
       "<table border=\"1\" class=\"dataframe\">\n",
       "  <thead>\n",
       "    <tr style=\"text-align: right;\">\n",
       "      <th></th>\n",
       "      <th>1</th>\n",
       "      <th>2</th>\n",
       "      <th>3</th>\n",
       "      <th>4</th>\n",
       "      <th>5</th>\n",
       "      <th>6</th>\n",
       "      <th>7</th>\n",
       "      <th>8</th>\n",
       "      <th>9</th>\n",
       "    </tr>\n",
       "  </thead>\n",
       "  <tbody>\n",
       "    <tr>\n",
       "      <th>0</th>\n",
       "      <td>0.003607</td>\n",
       "      <td>0.003498</td>\n",
       "      <td>0.003381</td>\n",
       "      <td>0.003267</td>\n",
       "      <td>0.003147</td>\n",
       "      <td>0.003021</td>\n",
       "      <td>0.002915</td>\n",
       "      <td>0.002795</td>\n",
       "      <td>0.002687</td>\n",
       "    </tr>\n",
       "    <tr>\n",
       "      <th>1</th>\n",
       "      <td>0.003689</td>\n",
       "      <td>0.003627</td>\n",
       "      <td>0.003577</td>\n",
       "      <td>0.003517</td>\n",
       "      <td>0.003439</td>\n",
       "      <td>0.003400</td>\n",
       "      <td>0.003352</td>\n",
       "      <td>0.003295</td>\n",
       "      <td>0.003230</td>\n",
       "    </tr>\n",
       "    <tr>\n",
       "      <th>2</th>\n",
       "      <td>0.005307</td>\n",
       "      <td>0.005192</td>\n",
       "      <td>0.005080</td>\n",
       "      <td>0.004956</td>\n",
       "      <td>0.004823</td>\n",
       "      <td>0.004694</td>\n",
       "      <td>0.004556</td>\n",
       "      <td>0.004397</td>\n",
       "      <td>0.004256</td>\n",
       "    </tr>\n",
       "    <tr>\n",
       "      <th>3</th>\n",
       "      <td>0.003607</td>\n",
       "      <td>0.003547</td>\n",
       "      <td>0.003488</td>\n",
       "      <td>0.003419</td>\n",
       "      <td>0.003352</td>\n",
       "      <td>0.003267</td>\n",
       "      <td>0.003183</td>\n",
       "      <td>0.003101</td>\n",
       "      <td>0.003012</td>\n",
       "    </tr>\n",
       "    <tr>\n",
       "      <th>4</th>\n",
       "      <td>0.003258</td>\n",
       "      <td>0.003193</td>\n",
       "      <td>0.003138</td>\n",
       "      <td>0.003065</td>\n",
       "      <td>0.003012</td>\n",
       "      <td>0.002950</td>\n",
       "      <td>0.002881</td>\n",
       "      <td>0.002812</td>\n",
       "      <td>0.002753</td>\n",
       "    </tr>\n",
       "  </tbody>\n",
       "</table>\n",
       "</div>"
      ],
      "text/plain": [
       "          1         2         3         4         5         6         7  \\\n",
       "0  0.003607  0.003498  0.003381  0.003267  0.003147  0.003021  0.002915   \n",
       "1  0.003689  0.003627  0.003577  0.003517  0.003439  0.003400  0.003352   \n",
       "2  0.005307  0.005192  0.005080  0.004956  0.004823  0.004694  0.004556   \n",
       "3  0.003607  0.003547  0.003488  0.003419  0.003352  0.003267  0.003183   \n",
       "4  0.003258  0.003193  0.003138  0.003065  0.003012  0.002950  0.002881   \n",
       "\n",
       "          8         9  \n",
       "0  0.002795  0.002687  \n",
       "1  0.003295  0.003230  \n",
       "2  0.004397  0.004256  \n",
       "3  0.003101  0.003012  \n",
       "4  0.002812  0.002753  "
      ]
     },
     "execution_count": 121,
     "metadata": {},
     "output_type": "execute_result"
    }
   ],
   "source": [
    "df_c"
   ]
  },
  {
   "cell_type": "code",
   "execution_count": 122,
   "metadata": {},
   "outputs": [
    {
     "name": "stdout",
     "output_type": "stream",
     "text": [
      "\\begin{tabular}{lrrrrrrrrr}\n",
      "\\toprule\n",
      "{} &         1 &         2 &         3 &         4 &         5 &         6 &         7 &         8 &         9 \\\\\n",
      "\\midrule\n",
      "0 &  0.003607 &  0.003498 &  0.003381 &  0.003267 &  0.003147 &  0.003021 &  0.002915 &  0.002795 &  0.002687 \\\\\n",
      "1 &  0.003689 &  0.003627 &  0.003577 &  0.003517 &  0.003439 &  0.003400 &  0.003352 &  0.003295 &  0.003230 \\\\\n",
      "2 &  0.005307 &  0.005192 &  0.005080 &  0.004956 &  0.004823 &  0.004694 &  0.004556 &  0.004397 &  0.004256 \\\\\n",
      "3 &  0.003607 &  0.003547 &  0.003488 &  0.003419 &  0.003352 &  0.003267 &  0.003183 &  0.003101 &  0.003012 \\\\\n",
      "4 &  0.003258 &  0.003193 &  0.003138 &  0.003065 &  0.003012 &  0.002950 &  0.002881 &  0.002812 &  0.002753 \\\\\n",
      "\\bottomrule\n",
      "\\end{tabular}\n",
      "\n"
     ]
    },
    {
     "name": "stderr",
     "output_type": "stream",
     "text": [
      "C:\\Windows\\Temp\\ipykernel_52472\\4112725018.py:1: FutureWarning: In future versions `DataFrame.to_latex` is expected to utilise the base implementation of `Styler.to_latex` for formatting and rendering. The arguments signature may therefore change. It is recommended instead to use `DataFrame.style.to_latex` which also contains additional functionality.\n",
      "  print(df_c.to_latex())\n"
     ]
    }
   ],
   "source": [
    "print(df_c.to_latex())"
   ]
  },
  {
   "cell_type": "code",
   "execution_count": 137,
   "metadata": {},
   "outputs": [],
   "source": [
    "import numpy as np\n",
    "import matplotlib.pyplot as plt\n",
    "markers = ['o', 's', '^', 'v', 'd', 'p', '*', 'h', 'H', '+', 'x', 'D', 'P', 'X']"
   ]
  },
  {
   "cell_type": "code",
   "execution_count": 178,
   "metadata": {},
   "outputs": [],
   "source": [
    "def linear_fit_and_plot(x, y,z):\n",
    "\n",
    "    coefficients = np.polyfit(x, y, 1)\n",
    "    polynomial = np.poly1d(coefficients)\n",
    "    ys = polynomial(x)\n",
    "    poly_label = f'Fit: c = {coefficients[0]:.8f}t + {coefficients[1]:.8f}'\n",
    "\n",
    "    plt1.plot(x, ys, color = \"blue\", linewidth = 1)\n",
    "    plt1.plot(x, y, marker = markers[z],linestyle = '',label = \"Group\" + str(z+1)+poly_label, color = \"r\", markersize = 6)\n"
   ]
  },
  {
   "cell_type": "code",
   "execution_count": null,
   "metadata": {},
   "outputs": [],
   "source": []
  },
  {
   "cell_type": "code",
   "execution_count": 179,
   "metadata": {},
   "outputs": [
    {
     "ename": "AttributeError",
     "evalue": "'Figure' object has no attribute 'plot'",
     "output_type": "error",
     "traceback": [
      "\u001b[1;31m---------------------------------------------------------------------------\u001b[0m",
      "\u001b[1;31mAttributeError\u001b[0m                            Traceback (most recent call last)",
      "\u001b[1;32mc:\\Users\\尚子翔\\Documents\\实验报告\\物理化学\\反应级数\\dataprocessing.ipynb 单元格 13\u001b[0m line \u001b[0;36m8\n\u001b[0;32m      <a href='vscode-notebook-cell:/c%3A/Users/%E5%B0%9A%E5%AD%90%E7%BF%94/Documents/%E5%AE%9E%E9%AA%8C%E6%8A%A5%E5%91%8A/%E7%89%A9%E7%90%86%E5%8C%96%E5%AD%A6/%E5%8F%8D%E5%BA%94%E7%BA%A7%E6%95%B0/dataprocessing.ipynb#X14sZmlsZQ%3D%3D?line=5'>6</a>\u001b[0m         x \u001b[39m=\u001b[39m x \u001b[39m/\u001b[39m \u001b[39m4\u001b[39m\n\u001b[0;32m      <a href='vscode-notebook-cell:/c%3A/Users/%E5%B0%9A%E5%AD%90%E7%BF%94/Documents/%E5%AE%9E%E9%AA%8C%E6%8A%A5%E5%91%8A/%E7%89%A9%E7%90%86%E5%8C%96%E5%AD%A6/%E5%8F%8D%E5%BA%94%E7%BA%A7%E6%95%B0/dataprocessing.ipynb#X14sZmlsZQ%3D%3D?line=6'>7</a>\u001b[0m         \u001b[39mprint\u001b[39m(\u001b[39m1\u001b[39m)\n\u001b[1;32m----> <a href='vscode-notebook-cell:/c%3A/Users/%E5%B0%9A%E5%AD%90%E7%BF%94/Documents/%E5%AE%9E%E9%AA%8C%E6%8A%A5%E5%91%8A/%E7%89%A9%E7%90%86%E5%8C%96%E5%AD%A6/%E5%8F%8D%E5%BA%94%E7%BA%A7%E6%95%B0/dataprocessing.ipynb#X14sZmlsZQ%3D%3D?line=7'>8</a>\u001b[0m     linear_fit_and_plot(x,yy,_) \n\u001b[0;32m      <a href='vscode-notebook-cell:/c%3A/Users/%E5%B0%9A%E5%AD%90%E7%BF%94/Documents/%E5%AE%9E%E9%AA%8C%E6%8A%A5%E5%91%8A/%E7%89%A9%E7%90%86%E5%8C%96%E5%AD%A6/%E5%8F%8D%E5%BA%94%E7%BA%A7%E6%95%B0/dataprocessing.ipynb#X14sZmlsZQ%3D%3D?line=8'>9</a>\u001b[0m plt1\u001b[39m.\u001b[39mxlabel(\u001b[39m\"\u001b[39m\u001b[39mt(min)\u001b[39m\u001b[39m\"\u001b[39m)\n\u001b[0;32m     <a href='vscode-notebook-cell:/c%3A/Users/%E5%B0%9A%E5%AD%90%E7%BF%94/Documents/%E5%AE%9E%E9%AA%8C%E6%8A%A5%E5%91%8A/%E7%89%A9%E7%90%86%E5%8C%96%E5%AD%A6/%E5%8F%8D%E5%BA%94%E7%BA%A7%E6%95%B0/dataprocessing.ipynb#X14sZmlsZQ%3D%3D?line=9'>10</a>\u001b[0m plt1\u001b[39m.\u001b[39mylabel(\u001b[39m\"\u001b[39m\u001b[39mc(mol/dm^(3))\u001b[39m\u001b[39m\"\u001b[39m)\n",
      "\u001b[1;32mc:\\Users\\尚子翔\\Documents\\实验报告\\物理化学\\反应级数\\dataprocessing.ipynb 单元格 13\u001b[0m line \u001b[0;36m8\n\u001b[0;32m      <a href='vscode-notebook-cell:/c%3A/Users/%E5%B0%9A%E5%AD%90%E7%BF%94/Documents/%E5%AE%9E%E9%AA%8C%E6%8A%A5%E5%91%8A/%E7%89%A9%E7%90%86%E5%8C%96%E5%AD%A6/%E5%8F%8D%E5%BA%94%E7%BA%A7%E6%95%B0/dataprocessing.ipynb#X14sZmlsZQ%3D%3D?line=4'>5</a>\u001b[0m ys \u001b[39m=\u001b[39m polynomial(x)\n\u001b[0;32m      <a href='vscode-notebook-cell:/c%3A/Users/%E5%B0%9A%E5%AD%90%E7%BF%94/Documents/%E5%AE%9E%E9%AA%8C%E6%8A%A5%E5%91%8A/%E7%89%A9%E7%90%86%E5%8C%96%E5%AD%A6/%E5%8F%8D%E5%BA%94%E7%BA%A7%E6%95%B0/dataprocessing.ipynb#X14sZmlsZQ%3D%3D?line=5'>6</a>\u001b[0m poly_label \u001b[39m=\u001b[39m \u001b[39mf\u001b[39m\u001b[39m'\u001b[39m\u001b[39mFit: c = \u001b[39m\u001b[39m{\u001b[39;00mcoefficients[\u001b[39m0\u001b[39m]\u001b[39m:\u001b[39;00m\u001b[39m.8f\u001b[39m\u001b[39m}\u001b[39;00m\u001b[39mt + \u001b[39m\u001b[39m{\u001b[39;00mcoefficients[\u001b[39m1\u001b[39m]\u001b[39m:\u001b[39;00m\u001b[39m.8f\u001b[39m\u001b[39m}\u001b[39;00m\u001b[39m'\u001b[39m\n\u001b[1;32m----> <a href='vscode-notebook-cell:/c%3A/Users/%E5%B0%9A%E5%AD%90%E7%BF%94/Documents/%E5%AE%9E%E9%AA%8C%E6%8A%A5%E5%91%8A/%E7%89%A9%E7%90%86%E5%8C%96%E5%AD%A6/%E5%8F%8D%E5%BA%94%E7%BA%A7%E6%95%B0/dataprocessing.ipynb#X14sZmlsZQ%3D%3D?line=7'>8</a>\u001b[0m plt1\u001b[39m.\u001b[39mplot(x, ys, color \u001b[39m=\u001b[39m \u001b[39m\"\u001b[39m\u001b[39mblue\u001b[39m\u001b[39m\"\u001b[39m, linewidth \u001b[39m=\u001b[39m \u001b[39m1\u001b[39m)\n\u001b[0;32m      <a href='vscode-notebook-cell:/c%3A/Users/%E5%B0%9A%E5%AD%90%E7%BF%94/Documents/%E5%AE%9E%E9%AA%8C%E6%8A%A5%E5%91%8A/%E7%89%A9%E7%90%86%E5%8C%96%E5%AD%A6/%E5%8F%8D%E5%BA%94%E7%BA%A7%E6%95%B0/dataprocessing.ipynb#X14sZmlsZQ%3D%3D?line=8'>9</a>\u001b[0m plt1\u001b[39m.\u001b[39mplot(x, y, marker \u001b[39m=\u001b[39m markers[z],linestyle \u001b[39m=\u001b[39m \u001b[39m'\u001b[39m\u001b[39m'\u001b[39m,label \u001b[39m=\u001b[39m \u001b[39m\"\u001b[39m\u001b[39mGroup\u001b[39m\u001b[39m\"\u001b[39m \u001b[39m+\u001b[39m \u001b[39mstr\u001b[39m(z\u001b[39m+\u001b[39m\u001b[39m1\u001b[39m)\u001b[39m+\u001b[39mpoly_label, color \u001b[39m=\u001b[39m \u001b[39m\"\u001b[39m\u001b[39mr\u001b[39m\u001b[39m\"\u001b[39m, markersize \u001b[39m=\u001b[39m \u001b[39m6\u001b[39m)\n",
      "\u001b[1;31mAttributeError\u001b[0m: 'Figure' object has no attribute 'plot'"
     ]
    },
    {
     "data": {
      "image/png": "[encoded data removed]",
      "text/plain": [
       "<Figure size 640x480 with 1 Axes>"
      ]
     },
     "metadata": {},
     "output_type": "display_data"
    }
   ],
   "source": [
    "plt1, plt2 = plt.subplots()\n",
    "x = np.array([1, 2, 3, 4, 5, 6, 7, 8, 9])\n",
    "for _, row in df_c.iterrows():\n",
    "    yy = np.array(row, dtype = float)\n",
    "    if(_==4):\n",
    "        x = x / 4\n",
    "        print(1)\n",
    "    linear_fit_and_plot(x,yy,_) \n",
    "plt1.xlabel(\"t(min)\")\n",
    "plt1.ylabel(\"c(mol/dm^(3))\")\n",
    "plt2.legend()\n",
    "plt1.grid(True)\n",
    "plt1.axis(\"off\")\n",
    "plt2.savefig(\"result2.png\", dpi = 300)\n",
    "plt2.show()"
   ]
  },
  {
   "cell_type": "code",
   "execution_count": 180,
   "metadata": {},
   "outputs": [
    {
     "data": {
      "image/png": "[encoded data removed]",
      "text/plain": [
       "<Figure size 200x200 with 1 Axes>"
      ]
     },
     "metadata": {},
     "output_type": "display_data"
    },
    {
     "data": {
      "image/png": "[encoded data removed]",
      "text/plain": [
       "<Figure size 600x400 with 1 Axes>"
      ]
     },
     "metadata": {},
     "output_type": "display_data"
    }
   ],
   "source": [
    "import matplotlib.pyplot as plt\n",
    "\n",
    "# 创建图例图表\n",
    "fig_legend = plt.figure(figsize=(2, 2))\n",
    "fig_legend.patch.set_visible(False)\n",
    "ax_legend = fig_legend.add_subplot(111)\n",
    "ax_legend.plot([], [], 'w-', label='Line')\n",
    "ax_legend.plot([], [], 'wo', label='Data Point')\n",
    "ax_legend.legend()\n",
    "ax_legend.axis('off')\n",
    "\n",
    "# 创建图像图表\n",
    "fig_image = plt.figure(figsize=(6, 4))\n",
    "ax_image = fig_image.add_subplot(111)\n",
    "x = [1, 2, 3, 4, 5]\n",
    "y = [2, 4, 6, 8, 10]\n",
    "ax_image.plot(x, y)\n",
    "\n",
    "# 显示图例图表\n",
    "plt.show(fig_legend)\n",
    "\n",
    "# 显示图像图表\n",
    "plt.show(fig_image)"
   ]
  }
 ],
 "metadata": {
  "kernelspec": {
   "display_name": "Python 3 (ipykernel)",
   "language": "python",
   "name": "python3"
  },
  "language_info": {
   "codemirror_mode": {
    "name": "ipython",
    "version": 3
   },
   "file_extension": ".py",
   "mimetype": "text/x-python",
   "name": "python",
   "nbconvert_exporter": "python",
   "pygments_lexer": "ipython3",
   "version": "3.11.4"
  }
 },
 "nbformat": 4,
 "nbformat_minor": 2
}
