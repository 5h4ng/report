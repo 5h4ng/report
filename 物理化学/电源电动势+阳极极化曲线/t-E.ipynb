{
 "cells": [
  {
   "cell_type": "code",
   "execution_count": 1,
   "metadata": {},
   "outputs": [
    {
     "ename": "ModuleNotFoundError",
     "evalue": "No module named 'pandas'",
     "output_type": "error",
     "traceback": [
      "\u001b[1;31m---------------------------------------------------------------------------\u001b[0m",
      "\u001b[1;31mModuleNotFoundError\u001b[0m                       Traceback (most recent call last)",
      "\u001b[1;32mc:\\Users\\尚子翔\\Documents\\实验报告\\物理化学\\电源电动势+阳极极化曲线\\t-E.ipynb Cell 1\u001b[0m line \u001b[0;36m1\n\u001b[1;32m----> <a href='vscode-notebook-cell:/c%3A/Users/%E5%B0%9A%E5%AD%90%E7%BF%94/Documents/%E5%AE%9E%E9%AA%8C%E6%8A%A5%E5%91%8A/%E7%89%A9%E7%90%86%E5%8C%96%E5%AD%A6/%E7%94%B5%E6%BA%90%E7%94%B5%E5%8A%A8%E5%8A%BF%2B%E9%98%B3%E6%9E%81%E6%9E%81%E5%8C%96%E6%9B%B2%E7%BA%BF/t-E.ipynb#W0sZmlsZQ%3D%3D?line=0'>1</a>\u001b[0m \u001b[39mimport\u001b[39;00m \u001b[39mpandas\u001b[39;00m \u001b[39mas\u001b[39;00m \u001b[39mpd\u001b[39;00m\n",
      "\u001b[1;31mModuleNotFoundError\u001b[0m: No module named 'pandas'"
     ]
    }
   ],
   "source": [
    "import pandas as pd"
   ]
  },
  {
   "cell_type": "code",
   "execution_count": null,
   "metadata": {},
   "outputs": [],
   "source": [
    "df = pd.read_csv(\"t-E.csv\")"
   ]
  },
  {
   "cell_type": "code",
   "execution_count": null,
   "metadata": {},
   "outputs": [
    {
     "data": {
      "text/html": [
       "<div>\n",
       "<style scoped>\n",
       "    .dataframe tbody tr th:only-of-type {\n",
       "        vertical-align: middle;\n",
       "    }\n",
       "\n",
       "    .dataframe tbody tr th {\n",
       "        vertical-align: top;\n",
       "    }\n",
       "\n",
       "    .dataframe thead th {\n",
       "        text-align: right;\n",
       "    }\n",
       "</style>\n",
       "<table border=\"1\" class=\"dataframe\">\n",
       "  <thead>\n",
       "    <tr style=\"text-align: right;\">\n",
       "      <th></th>\n",
       "      <th>t</th>\n",
       "      <th>E/mV</th>\n",
       "    </tr>\n",
       "  </thead>\n",
       "  <tbody>\n",
       "    <tr>\n",
       "      <th>0</th>\n",
       "      <td>26</td>\n",
       "      <td>1052.33</td>\n",
       "    </tr>\n",
       "    <tr>\n",
       "      <th>1</th>\n",
       "      <td>29</td>\n",
       "      <td>1045.72</td>\n",
       "    </tr>\n",
       "    <tr>\n",
       "      <th>2</th>\n",
       "      <td>32</td>\n",
       "      <td>1042.27</td>\n",
       "    </tr>\n",
       "    <tr>\n",
       "      <th>3</th>\n",
       "      <td>35</td>\n",
       "      <td>1041.01</td>\n",
       "    </tr>\n",
       "    <tr>\n",
       "      <th>4</th>\n",
       "      <td>38</td>\n",
       "      <td>1040.89</td>\n",
       "    </tr>\n",
       "    <tr>\n",
       "      <th>5</th>\n",
       "      <td>41</td>\n",
       "      <td>1038.77</td>\n",
       "    </tr>\n",
       "    <tr>\n",
       "      <th>6</th>\n",
       "      <td>44</td>\n",
       "      <td>1035.65</td>\n",
       "    </tr>\n",
       "  </tbody>\n",
       "</table>\n",
       "</div>"
      ],
      "text/plain": [
       "    t     E/mV\n",
       "0  26  1052.33\n",
       "1  29  1045.72\n",
       "2  32  1042.27\n",
       "3  35  1041.01\n",
       "4  38  1040.89\n",
       "5  41  1038.77\n",
       "6  44  1035.65"
      ]
     },
     "execution_count": 51,
     "metadata": {},
     "output_type": "execute_result"
    }
   ],
   "source": [
    "df"
   ]
  },
  {
   "cell_type": "code",
   "execution_count": null,
   "metadata": {},
   "outputs": [],
   "source": [
    "df[\"T/K\"] = df[\"t\"] + 273.15"
   ]
  },
  {
   "cell_type": "code",
   "execution_count": null,
   "metadata": {},
   "outputs": [],
   "source": [
    "import numpy as np\n",
    "from scipy.optimize import curve_fit\n",
    "import matplotlib.pyplot as plt"
   ]
  },
  {
   "cell_type": "code",
   "execution_count": null,
   "metadata": {},
   "outputs": [
    {
     "name": "stdout",
     "output_type": "stream",
     "text": [
      "a: 4594.156899792551, b: -22.282812184559674, c: 0.03489403397134453\n"
     ]
    },
    {
     "data": {
      "image/png": "[encoded data removed]",
      "text/plain": [
       "<Figure size 472x472 with 1 Axes>"
      ]
     },
     "metadata": {},
     "output_type": "display_data"
    }
   ],
   "source": [
    "def func(T, a, b, c):\n",
    "    return a + b * T + c * T**2\n",
    "\n",
    "# 提取温度和电势数据作为NumPy数组\n",
    "T_data = df['T/K'].values\n",
    "E_data = df['E/mV'].values\n",
    "\n",
    "# 初始参数猜测\n",
    "initial_guess = (1, 1, 1)\n",
    "\n",
    "# 使用curve_fit拟合数据\n",
    "params, covariance = curve_fit(func, T_data, E_data, p0=initial_guess)\n",
    "\n",
    "# 获取最佳拟合参数\n",
    "a_fit, b_fit, c_fit = params\n",
    "\n",
    "# 打印最佳参数\n",
    "print(f'a: {a_fit}, b: {b_fit}, c: {c_fit}')\n",
    "\n",
    "# 生成拟合曲线的数据点\n",
    "T_fit = np.linspace(min(T_data), max(T_data), 100)\n",
    "E_fit = func(T_fit, a_fit, b_fit, c_fit)\n",
    "\n",
    "# 绘制原始数据和拟合曲线\n",
    "fig, ax = plt.subplots(figsize=(4.72, 4.72))  # 1厘米 = 0.393701英寸\n",
    "\n",
    "# 绘制原始数据和拟合曲线\n",
    "ax.scatter(T_data, E_data, label='Data')\n",
    "ax.plot(T_fit, E_fit, 'r-', label='Fit')\n",
    "ax.set_xlabel('T/K')\n",
    "ax.set_ylabel('E/mV')\n",
    "ax.legend()\n",
    "\n",
    "plt.title(\"Fig.1 E-T curve fitting\")\n",
    "\n",
    "# 保存图像\n",
    "plt.savefig('T-E.png', dpi=300, bbox_inches='tight')  # 设置dpi以提高图像质量，并使用bbox_inches='tight'来避免裁剪\n",
    "\n",
    "# 显示图像\n",
    "plt.show()"
   ]
  },
  {
   "cell_type": "code",
   "execution_count": null,
   "metadata": {},
   "outputs": [
    {
     "data": {
      "text/plain": [
       "-1.4754997274469304"
      ]
     },
     "execution_count": 55,
     "metadata": {},
     "output_type": "execute_result"
    }
   ],
   "source": [
    "2 * 298.15 * c_fit + b_fit"
   ]
  },
  {
   "cell_type": "code",
   "execution_count": null,
   "metadata": {},
   "outputs": [
    {
     "data": {
      "text/plain": [
       "1052.3865515101666"
      ]
     },
     "execution_count": 56,
     "metadata": {},
     "output_type": "execute_result"
    }
   ],
   "source": [
    "t = 298.15\n",
    "a_fit + b_fit * t + c_fit * t * t"
   ]
  },
  {
   "cell_type": "code",
   "execution_count": null,
   "metadata": {},
   "outputs": [
    {
     "data": {
      "text/html": [
       "<div>\n",
       "<style scoped>\n",
       "    .dataframe tbody tr th:only-of-type {\n",
       "        vertical-align: middle;\n",
       "    }\n",
       "\n",
       "    .dataframe tbody tr th {\n",
       "        vertical-align: top;\n",
       "    }\n",
       "\n",
       "    .dataframe thead th {\n",
       "        text-align: right;\n",
       "    }\n",
       "</style>\n",
       "<table border=\"1\" class=\"dataframe\">\n",
       "  <thead>\n",
       "    <tr style=\"text-align: right;\">\n",
       "      <th></th>\n",
       "      <th>Potential/V</th>\n",
       "      <th>Current/A</th>\n",
       "    </tr>\n",
       "  </thead>\n",
       "  <tbody>\n",
       "    <tr>\n",
       "      <th>0</th>\n",
       "      <td>-1.000</td>\n",
       "      <td>-0.00243</td>\n",
       "    </tr>\n",
       "    <tr>\n",
       "      <th>1</th>\n",
       "      <td>-0.999</td>\n",
       "      <td>-0.00232</td>\n",
       "    </tr>\n",
       "    <tr>\n",
       "      <th>2</th>\n",
       "      <td>-0.998</td>\n",
       "      <td>-0.00225</td>\n",
       "    </tr>\n",
       "    <tr>\n",
       "      <th>3</th>\n",
       "      <td>-0.997</td>\n",
       "      <td>-0.00218</td>\n",
       "    </tr>\n",
       "    <tr>\n",
       "      <th>4</th>\n",
       "      <td>-0.996</td>\n",
       "      <td>-0.00212</td>\n",
       "    </tr>\n",
       "    <tr>\n",
       "      <th>...</th>\n",
       "      <td>...</td>\n",
       "      <td>...</td>\n",
       "    </tr>\n",
       "    <tr>\n",
       "      <th>1995</th>\n",
       "      <td>0.995</td>\n",
       "      <td>0.17800</td>\n",
       "    </tr>\n",
       "    <tr>\n",
       "      <th>1996</th>\n",
       "      <td>0.996</td>\n",
       "      <td>0.17800</td>\n",
       "    </tr>\n",
       "    <tr>\n",
       "      <th>1997</th>\n",
       "      <td>0.997</td>\n",
       "      <td>0.17900</td>\n",
       "    </tr>\n",
       "    <tr>\n",
       "      <th>1998</th>\n",
       "      <td>0.998</td>\n",
       "      <td>0.17900</td>\n",
       "    </tr>\n",
       "    <tr>\n",
       "      <th>1999</th>\n",
       "      <td>0.999</td>\n",
       "      <td>0.17900</td>\n",
       "    </tr>\n",
       "  </tbody>\n",
       "</table>\n",
       "<p>2000 rows × 2 columns</p>\n",
       "</div>"
      ],
      "text/plain": [
       "      Potential/V   Current/A\n",
       "0          -1.000    -0.00243\n",
       "1          -0.999    -0.00232\n",
       "2          -0.998    -0.00225\n",
       "3          -0.997    -0.00218\n",
       "4          -0.996    -0.00212\n",
       "...           ...         ...\n",
       "1995        0.995     0.17800\n",
       "1996        0.996     0.17800\n",
       "1997        0.997     0.17900\n",
       "1998        0.998     0.17900\n",
       "1999        0.999     0.17900\n",
       "\n",
       "[2000 rows x 2 columns]"
      ]
     },
     "execution_count": 57,
     "metadata": {},
     "output_type": "execute_result"
    }
   ],
   "source": [
    "df = pd.read_csv(\"2.csv\")\n",
    "df"
   ]
  },
  {
   "cell_type": "code",
   "execution_count": null,
   "metadata": {},
   "outputs": [
    {
     "data": {
      "text/plain": [
       "0.0006514406415359999"
      ]
     },
     "execution_count": 58,
     "metadata": {},
     "output_type": "execute_result"
    }
   ],
   "source": [
    "s = 3.1415926 *(0.48/100*4.2/100+(0.48/2/100)**2)\n",
    "s"
   ]
  },
  {
   "cell_type": "code",
   "execution_count": null,
   "metadata": {},
   "outputs": [
    {
     "name": "stderr",
     "output_type": "stream",
     "text": [
      "C:\\ProgramData\\anaconda3\\Lib\\site-packages\\pandas\\core\\arraylike.py:402: RuntimeWarning: invalid value encountered in log10\n",
      "  result = getattr(ufunc, method)(*inputs, **kwargs)\n"
     ]
    }
   ],
   "source": [
    "import numpy as np\n",
    "import math\n",
    "df[\"log(i)\"] = np.log10(df.iloc[:,1]/s)"
   ]
  },
  {
   "cell_type": "code",
   "execution_count": null,
   "metadata": {},
   "outputs": [],
   "source": [
    "df[\"yita\"] = -df.iloc[:,0] - 0.921"
   ]
  },
  {
   "cell_type": "code",
   "execution_count": null,
   "metadata": {},
   "outputs": [
    {
     "data": {
      "text/html": [
       "<div>\n",
       "<style scoped>\n",
       "    .dataframe tbody tr th:only-of-type {\n",
       "        vertical-align: middle;\n",
       "    }\n",
       "\n",
       "    .dataframe tbody tr th {\n",
       "        vertical-align: top;\n",
       "    }\n",
       "\n",
       "    .dataframe thead th {\n",
       "        text-align: right;\n",
       "    }\n",
       "</style>\n",
       "<table border=\"1\" class=\"dataframe\">\n",
       "  <thead>\n",
       "    <tr style=\"text-align: right;\">\n",
       "      <th></th>\n",
       "      <th>Potential/V</th>\n",
       "      <th>Current/A</th>\n",
       "      <th>log(i)</th>\n",
       "      <th>yita</th>\n",
       "    </tr>\n",
       "  </thead>\n",
       "  <tbody>\n",
       "    <tr>\n",
       "      <th>0</th>\n",
       "      <td>-1.000</td>\n",
       "      <td>-0.00243</td>\n",
       "      <td>NaN</td>\n",
       "      <td>0.079</td>\n",
       "    </tr>\n",
       "    <tr>\n",
       "      <th>1</th>\n",
       "      <td>-0.999</td>\n",
       "      <td>-0.00232</td>\n",
       "      <td>NaN</td>\n",
       "      <td>0.078</td>\n",
       "    </tr>\n",
       "    <tr>\n",
       "      <th>2</th>\n",
       "      <td>-0.998</td>\n",
       "      <td>-0.00225</td>\n",
       "      <td>NaN</td>\n",
       "      <td>0.077</td>\n",
       "    </tr>\n",
       "    <tr>\n",
       "      <th>3</th>\n",
       "      <td>-0.997</td>\n",
       "      <td>-0.00218</td>\n",
       "      <td>NaN</td>\n",
       "      <td>0.076</td>\n",
       "    </tr>\n",
       "    <tr>\n",
       "      <th>4</th>\n",
       "      <td>-0.996</td>\n",
       "      <td>-0.00212</td>\n",
       "      <td>NaN</td>\n",
       "      <td>0.075</td>\n",
       "    </tr>\n",
       "    <tr>\n",
       "      <th>...</th>\n",
       "      <td>...</td>\n",
       "      <td>...</td>\n",
       "      <td>...</td>\n",
       "      <td>...</td>\n",
       "    </tr>\n",
       "    <tr>\n",
       "      <th>1995</th>\n",
       "      <td>0.995</td>\n",
       "      <td>0.17800</td>\n",
       "      <td>2.436545</td>\n",
       "      <td>-1.916</td>\n",
       "    </tr>\n",
       "    <tr>\n",
       "      <th>1996</th>\n",
       "      <td>0.996</td>\n",
       "      <td>0.17800</td>\n",
       "      <td>2.436545</td>\n",
       "      <td>-1.917</td>\n",
       "    </tr>\n",
       "    <tr>\n",
       "      <th>1997</th>\n",
       "      <td>0.997</td>\n",
       "      <td>0.17900</td>\n",
       "      <td>2.438978</td>\n",
       "      <td>-1.918</td>\n",
       "    </tr>\n",
       "    <tr>\n",
       "      <th>1998</th>\n",
       "      <td>0.998</td>\n",
       "      <td>0.17900</td>\n",
       "      <td>2.438978</td>\n",
       "      <td>-1.919</td>\n",
       "    </tr>\n",
       "    <tr>\n",
       "      <th>1999</th>\n",
       "      <td>0.999</td>\n",
       "      <td>0.17900</td>\n",
       "      <td>2.438978</td>\n",
       "      <td>-1.920</td>\n",
       "    </tr>\n",
       "  </tbody>\n",
       "</table>\n",
       "<p>2000 rows × 4 columns</p>\n",
       "</div>"
      ],
      "text/plain": [
       "      Potential/V   Current/A    log(i)   yita\n",
       "0          -1.000    -0.00243       NaN  0.079\n",
       "1          -0.999    -0.00232       NaN  0.078\n",
       "2          -0.998    -0.00225       NaN  0.077\n",
       "3          -0.997    -0.00218       NaN  0.076\n",
       "4          -0.996    -0.00212       NaN  0.075\n",
       "...           ...         ...       ...    ...\n",
       "1995        0.995     0.17800  2.436545 -1.916\n",
       "1996        0.996     0.17800  2.436545 -1.917\n",
       "1997        0.997     0.17900  2.438978 -1.918\n",
       "1998        0.998     0.17900  2.438978 -1.919\n",
       "1999        0.999     0.17900  2.438978 -1.920\n",
       "\n",
       "[2000 rows x 4 columns]"
      ]
     },
     "execution_count": 61,
     "metadata": {},
     "output_type": "execute_result"
    }
   ],
   "source": [
    "df"
   ]
  },
  {
   "cell_type": "code",
   "execution_count": null,
   "metadata": {},
   "outputs": [
    {
     "data": {
      "text/plain": [
       "608    -0.493729\n",
       "609    -0.491656\n",
       "610    -0.491656\n",
       "611    -0.491656\n",
       "612    -0.489592\n",
       "          ...   \n",
       "1995    2.436545\n",
       "1996    2.436545\n",
       "1997    2.438978\n",
       "1998    2.438978\n",
       "1999    2.438978\n",
       "Name: log(i), Length: 1392, dtype: float64"
      ]
     },
     "execution_count": 62,
     "metadata": {},
     "output_type": "execute_result"
    }
   ],
   "source": [
    "xx = df[df.iloc[:,0]>-0.5].iloc[:,2]\n",
    "mmin = np.argmin(df[df.iloc[:,0]>-0.5].iloc[:,2])\n",
    "xx[mmin:]"
   ]
  },
  {
   "cell_type": "code",
   "execution_count": null,
   "metadata": {},
   "outputs": [
    {
     "name": "stdout",
     "output_type": "stream",
     "text": [
      "107\n"
     ]
    },
    {
     "data": {
      "text/plain": [
       "<Figure size 6400x4800 with 0 Axes>"
      ]
     },
     "metadata": {},
     "output_type": "display_data"
    },
    {
     "data": {
      "image/png": "[encoded data removed]",
      "text/plain": [
       "<Figure size 472x472 with 1 Axes>"
      ]
     },
     "metadata": {},
     "output_type": "display_data"
    }
   ],
   "source": [
    "plt.figure(dpi=1000)\n",
    "fig, ax = plt.subplots(figsize=(4.72, 4.72)) \n",
    "# 绘制原始数据和拟合曲线\n",
    "ax.plot(df.iloc[:,0], df.iloc[:,2], 'r-')\n",
    "ax.set_xlabel('E/V')\n",
    "ax.set_ylabel('log(i)')\n",
    "\n",
    "mmin = np.argmin(df[df.iloc[:,0]>-0.5].iloc[:,2])\n",
    "print(mmin)\n",
    "\n",
    "plt.title(\"Fig.2 log(i)-E plot\")\n",
    "plt.axvspan(-0.37, 0.25,color='skyblue', alpha=0.5, label='第二次大幅上升区间')\n",
    "plt.rcParams['font.family'] = 'Arial'\n",
    "plt.axhline(y = -0.3910192, color = \"darkblue\", linestyle = \"--\")\n",
    "plt.annotate('E = -0.37', xy=(-0.37, -0.463627), xytext=(-0.37, -0.463627-0.5),\n",
    "             arrowprops=dict(color='blue', headwidth=4, width=1,\n",
    "                            headlength=4),\n",
    "                             horizontalalignment='left', verticalalignment='top', color = \"blue\")\n",
    "plt.annotate('E = 0.25', xy=(0.25, -0.354482), xytext=(0.25, -0.354482+ 0.7),\n",
    "             arrowprops=dict(color='blue', headwidth=4, width=1,\n",
    "                            headlength=4),\n",
    "                             horizontalalignment='right', verticalalignment='top', color = \"blue\")\n",
    "plt.text(0.38,-0.7,'log(i) = -0.351019', fontsize = 11, color = \"darkblue\")\n",
    "plt.savefig('log(i)-E.png', dpi=300, bbox_inches='tight')\n",
    "plt.show()\n"
   ]
  },
  {
   "cell_type": "code",
   "execution_count": null,
   "metadata": {},
   "outputs": [
    {
     "data": {
      "text/plain": [
       "-0.3510192990348484"
      ]
     },
     "execution_count": 179,
     "metadata": {},
     "output_type": "execute_result"
    }
   ],
   "source": [
    "df[670:1383].iloc[:,2].mean()"
   ]
  },
  {
   "cell_type": "code",
   "execution_count": null,
   "metadata": {},
   "outputs": [
    {
     "data": {
      "text/plain": [
       "0.25058313975055063"
      ]
     },
     "execution_count": 216,
     "metadata": {},
     "output_type": "execute_result"
    }
   ],
   "source": [
    "xx[1383]"
   ]
  },
  {
   "cell_type": "code",
   "execution_count": null,
   "metadata": {},
   "outputs": [
    {
     "data": {
      "text/html": [
       "<div>\n",
       "<style scoped>\n",
       "    .dataframe tbody tr th:only-of-type {\n",
       "        vertical-align: middle;\n",
       "    }\n",
       "\n",
       "    .dataframe tbody tr th {\n",
       "        vertical-align: top;\n",
       "    }\n",
       "\n",
       "    .dataframe thead th {\n",
       "        text-align: right;\n",
       "    }\n",
       "</style>\n",
       "<table border=\"1\" class=\"dataframe\">\n",
       "  <thead>\n",
       "    <tr style=\"text-align: right;\">\n",
       "      <th></th>\n",
       "      <th>Potential/V</th>\n",
       "      <th>Current/A</th>\n",
       "      <th>log(i)</th>\n",
       "      <th>yita</th>\n",
       "    </tr>\n",
       "  </thead>\n",
       "  <tbody>\n",
       "    <tr>\n",
       "      <th>1250</th>\n",
       "      <td>0.25</td>\n",
       "      <td>0.000288</td>\n",
       "      <td>-0.354482</td>\n",
       "      <td>-1.171</td>\n",
       "    </tr>\n",
       "  </tbody>\n",
       "</table>\n",
       "</div>"
      ],
      "text/plain": [
       "      Potential/V   Current/A    log(i)   yita\n",
       "1250         0.25    0.000288 -0.354482 -1.171"
      ]
     },
     "execution_count": 226,
     "metadata": {},
     "output_type": "execute_result"
    }
   ],
   "source": [
    "df[df.iloc[:,0]==0.25]"
   ]
  },
  {
   "cell_type": "code",
   "execution_count": null,
   "metadata": {},
   "outputs": [
    {
     "data": {
      "text/plain": [
       "0      -0.00243\n",
       "1      -0.00232\n",
       "2      -0.00225\n",
       "3      -0.00218\n",
       "4      -0.00212\n",
       "         ...   \n",
       "1995    0.17800\n",
       "1996    0.17800\n",
       "1997    0.17900\n",
       "1998    0.17900\n",
       "1999    0.17900\n",
       "Name:  Current/A, Length: 2000, dtype: float64"
      ]
     },
     "execution_count": 219,
     "metadata": {},
     "output_type": "execute_result"
    }
   ],
   "source": [
    "df.iloc[:,1]\n"
   ]
  },
  {
   "cell_type": "code",
   "execution_count": null,
   "metadata": {},
   "outputs": [],
   "source": []
  }
 ],
 "metadata": {
  "kernelspec": {
   "display_name": "Python 3",
   "language": "python",
   "name": "python3"
  },
  "language_info": {
   "codemirror_mode": {
    "name": "ipython",
    "version": 3
   },
   "file_extension": ".py",
   "mimetype": "text/x-python",
   "name": "python",
   "nbconvert_exporter": "python",
   "pygments_lexer": "ipython3",
   "version": "3.10.11"
  },
  "orig_nbformat": 4
 },
 "nbformat": 4,
 "nbformat_minor": 2
}
